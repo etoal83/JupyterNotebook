{
 "cells": [
  {
   "cell_type": "markdown",
   "metadata": {},
   "source": [
    "# TMS LVDT sensing matrix construction\n",
    "\n",
    "<br>\n",
    "<div align=\"center\">K. Okutomi<br>\n",
    "2018.08.24\n",
    "<br></div>\n",
    "\n",
    "Check the construction procedure of the sensing matrix for the TMS LVDTs."
   ]
  },
  {
   "cell_type": "code",
   "execution_count": 28,
   "metadata": {
    "collapsed": true
   },
   "outputs": [],
   "source": [
    "import numpy as np\n",
    "\n",
    "pi = np.pi\n",
    "cos = lambda x: np.cos(x/180*pi)    # cos in [deg]\n",
    "sin = lambda x: np.sin(x/180*pi)    # sin in [deg]\n",
    "\n",
    "##  LVDT geometry information (copied from the excel file)\n",
    "#\n",
    "#              radius  azimuth  height \n",
    "#                [mm]    [deg]    [mm]\n",
    "#       -------------------------------\n",
    "LVDT = {'H1': [497.21, -148.24,   0.01], \n",
    "        'H2': [497.21,  -28.24,   0.01], \n",
    "        'H3': [497.21,   91.76,   0.01],\n",
    "        'V1': [504.56,  159.93, -78.06], \n",
    "        'V2': [504.56,  -80.07, -78.06], \n",
    "        'V3': [504.56,   39.93, -78.06]}"
   ]
  },
  {
   "cell_type": "markdown",
   "metadata": {},
   "source": [
    "## Abstract\n",
    "\n",
    "Denoting the radius in the $L$-$T$ plane as $(r_h,\\,r_v)$ for horitontal and vertical LVDTs, azimuth as $\\theta_i$ ($i = \\mathrm{\\{H1,\\,H2,\\,H3,\\,V1,\\,V2,\\,V3\\}}$), and the depth (negative height) as $d_v$ (only the depths for the vertical LVDTs taken into account), we can write the simultaneous equations in a matrix form like the following.\n",
    "\n",
    "\\begin{align}\n",
    "\\left[\\begin{matrix}\n",
    "\\mathrm{V1} \\\\ \\mathrm{V2} \\\\ \\mathrm{V3} \\\\ \\mathrm{H1} \\\\ \\mathrm{H2} \\\\ \\mathrm{H3} \n",
    "\\end{matrix}\\right] =\n",
    "\\boldsymbol{M}\\;\n",
    "\\left[\\begin{matrix}\n",
    "L \\\\ T \\\\ V \\\\ R \\\\ P \\\\ Y\n",
    "\\end{matrix}\\right]\\;,\n",
    "\\end{align}\n",
    "\n",
    "where,\n",
    "\n",
    "\\begin{align}\n",
    "\\boldsymbol{M} =\n",
    "\\left[\\begin{matrix}\n",
    "0 & 0 & 1 & r_\\mathrm{V1}\\cos(\\arctan\\frac{d_v}{r\\sin\\theta_\\mathrm{V1}}) & r_\\mathrm{V1}\\cos(\\arctan\\frac{d_v}{r\\cos\\theta_\\mathrm{V1}}) & 0 \\\\\n",
    "0 & 0 & 1 & r_\\mathrm{V2}\\cos(\\arctan\\frac{d_v}{r\\sin\\theta_\\mathrm{V2}}) & r_\\mathrm{V2}\\cos(\\arctan\\frac{d_v}{r\\cos\\theta_\\mathrm{V2}}) & 0 \\\\\n",
    "0 & 0 & 1 & r_\\mathrm{V3}\\cos(\\arctan\\frac{d_v}{r\\sin\\theta_\\mathrm{V3}}) & r_\\mathrm{V3}\\cos(\\arctan\\frac{d_v}{r\\cos\\theta_\\mathrm{V3}}) & 0 \\\\\n",
    "\\cos\\phi_\\mathrm{H1} & \\sin\\phi_\\mathrm{H1} & 0 & 0 & 0 & r_h \\\\  \n",
    "\\cos\\phi_\\mathrm{H2} & \\sin\\phi_\\mathrm{H2} & 0 & 0 & 0 & r_h \\\\  \n",
    "\\cos\\phi_\\mathrm{H3} & \\sin\\phi_\\mathrm{H3} & 0 & 0 & 0 & r_h \\\\  \n",
    "\\end{matrix}\\right]\\;,\n",
    "\\end{align}\n",
    "\n",
    "and\n",
    "\n",
    "\\begin{align}\n",
    "\\phi_i &= \\theta_i + \\pi/2 \\;,\\\\\n",
    "r_i &= \\sqrt{r_v^2\\sin^2\\theta_i + d_v^2}\\;.\n",
    "\\end{align}\n",
    "\n",
    "## Memo\n",
    "\n",
    "* A cartoon of sensor configuration of the TMS LVDT\n",
    "<img src=\"https://github.com/etoal83/images/blob/master/cartoons/ctn_TMSLVDTconfig.jpg?raw=true\" width=\"600px\"></img>\n",
    "\n",
    "### Horizontal\n",
    "* Each sensor basis (unit vector aligned to the sensitive direction) can be regarded as its radial vector rotated by 90$^\\circ$.\n",
    "* Given the azimuth information, it's easy to calculate the contribution of each DoF to one sensor.\n",
    "\n",
    "### Vertical\n",
    "* Comparing to the horizontal motion, the vertical sensors have relatively complicated response to the tilt rotation\n",
    "* "
   ]
  },
  {
   "cell_type": "code",
   "execution_count": 21,
   "metadata": {
    "collapsed": true
   },
   "outputs": [],
   "source": [
    "def hcoeff(key, dof):\n",
    "    r = LVDT[key][0] * 1e-3   # [m]\n",
    "    phi = LVDT[key][1] + 90   # [deg]\n",
    "    dofcalc = {'L': cos(phi),\n",
    "               'T': sin(phi),\n",
    "               'Y': r}\n",
    "    return dofcalc[dof]\n",
    "    # For horizontal LVDTs, the height are ignored because they're small enough\n",
    "\n",
    "    \n",
    "def vcoeff(key, dof):\n",
    "    r = LVDT[key][0] * 1e-3         # [m]\n",
    "    theta = LVDT[key][1]            # [deg]\n",
    "    depth = -LVDT[key][2] * 1e-3    # [m]\n",
    "    rv = np.sqrt(r**2 * sin(theta)**2 + depth**2)\n",
    "    dofcalc = {'V': 1,\n",
    "               'R': rv * cos(np.arctan2(depth, r*sin(theta))*180/pi),\n",
    "               'P': rv * cos(np.arctan2(depth, r*cos(theta))*180/pi)}\n",
    "    return dofcalc[dof]    "
   ]
  },
  {
   "cell_type": "code",
   "execution_count": 33,
   "metadata": {},
   "outputs": [
    {
     "name": "stdout",
     "output_type": "stream",
     "text": [
      "\n",
      "M = \n",
      "\n",
      "[[ 0.          0.          1.          0.17314882 -0.18740611  0.        ]\n",
      " [ 0.          0.          1.         -0.49700127  0.37447694  0.        ]\n",
      " [ 0.          0.          1.          0.32385246  0.3265477   0.        ]\n",
      " [ 0.52636233 -0.85026037  0.          0.          0.          0.49721   ]\n",
      " [ 0.47316592  0.88097333  0.          0.          0.          0.49721   ]\n",
      " [-0.99952825 -0.03071296  0.          0.          0.          0.49721   ]]\n",
      "\n"
     ]
    }
   ],
   "source": [
    "# 3x3 horizontal submatrix\n",
    "M_h = np.zeros([3, 3])\n",
    "for i, key in enumerate(['H1', 'H2', 'H3']):\n",
    "    for j, dof in enumerate(['L', 'T', 'Y']):\n",
    "        M_h[i, j] = hcoeff(key, dof)\n",
    "\n",
    "# 3x3 vertical submatrix\n",
    "M_v = np.zeros([3, 3])\n",
    "for i, key in enumerate(['V1', 'V2', 'V3']):\n",
    "    for j, dof in enumerate(['V', 'R', 'P']):\n",
    "        M_v[i, j] = vcoeff(key, dof)\n",
    "\n",
    "# 6x6 full matrix of \"M\"\n",
    "M = np.zeros([6, 6])\n",
    "M[0:3, 2:5] = M_v\n",
    "M[3:, 0:2]  = M_h[:, 0:2]\n",
    "M[3:, 5]    = M_h[:, 2]\n",
    "\n",
    "print('\\nM = \\n\\n{0}\\n'.format(M))"
   ]
  },
  {
   "cell_type": "code",
   "execution_count": 35,
   "metadata": {},
   "outputs": [
    {
     "name": "stdout",
     "output_type": "stream",
     "text": [
      "\n",
      "LVDT2EUL = \n",
      "\n",
      "[[-0.         -0.         -0.          0.35090822  0.31544394 -0.66635216]\n",
      " [ 0.          0.          0.         -0.56684025  0.58731556 -0.02047531]\n",
      " [ 0.66084188  0.2732048   0.06595332  0.          0.          0.        ]\n",
      " [-0.11169609 -1.19773713  1.30943323 -0.         -0.         -0.        ]\n",
      " [-1.91294817  0.35120539  1.56174278 -0.         -0.         -0.        ]\n",
      " [ 0.          0.          0.          0.67040754  0.67040754  0.67040754]]\n",
      "\n"
     ]
    }
   ],
   "source": [
    "##  Final result of the sensing matrix LVDT2EUL\n",
    "sensmat = np.linalg.inv(M)\n",
    "print('\\nLVDT2EUL = \\n\\n{0}\\n'.format(sensmat))"
   ]
  },
  {
   "cell_type": "markdown",
   "metadata": {},
   "source": [
    "## Contact\n",
    "\n",
    "* koki.okutomi(´・ω・｀)nao.ac.jp\n",
    "\n",
    "Please change the _(´・ω・｀)_ to @ (at_mark)"
   ]
  },
  {
   "cell_type": "code",
   "execution_count": null,
   "metadata": {
    "collapsed": true
   },
   "outputs": [],
   "source": []
  }
 ],
 "metadata": {
  "kernelspec": {
   "display_name": "Python 3",
   "language": "python",
   "name": "python3"
  },
  "language_info": {
   "codemirror_mode": {
    "name": "ipython",
    "version": 3
   },
   "file_extension": ".py",
   "mimetype": "text/x-python",
   "name": "python",
   "nbconvert_exporter": "python",
   "pygments_lexer": "ipython3",
   "version": "3.6.1"
  },
  "toc": {
   "nav_menu": {},
   "number_sections": true,
   "sideBar": true,
   "skip_h1_title": true,
   "toc_cell": false,
   "toc_position": {},
   "toc_section_display": "block",
   "toc_window_display": false
  }
 },
 "nbformat": 4,
 "nbformat_minor": 2
}
